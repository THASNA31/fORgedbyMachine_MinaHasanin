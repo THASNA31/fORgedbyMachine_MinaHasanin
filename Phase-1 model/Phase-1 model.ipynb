{
 "cells": [
  {
   "cell_type": "markdown",
   "metadata": {},
   "source": [
    "<h1>1. Import Libraries</h1>"
   ]
  },
  {
   "cell_type": "code",
   "execution_count": 1,
   "metadata": {},
   "outputs": [],
   "source": [
    "import numpy as np\n",
    "import pandas as pd\n",
    "from scipy.optimize import minimize\n",
    "from scipy.stats import norm\n",
    "import scipy.integrate as integrate\n",
    "from scipy.integrate import quad\n",
    "from scipy.optimize import LinearConstraint\n",
    "from scipy.optimize import Bounds"
   ]
  },
  {
   "cell_type": "markdown",
   "metadata": {},
   "source": [
    "<h1>2. Read Data </h1>"
   ]
  },
  {
   "cell_type": "code",
   "execution_count": 2,
   "metadata": {},
   "outputs": [
    {
     "data": {
      "text/html": [
       "<div>\n",
       "<style scoped>\n",
       "    .dataframe tbody tr th:only-of-type {\n",
       "        vertical-align: middle;\n",
       "    }\n",
       "\n",
       "    .dataframe tbody tr th {\n",
       "        vertical-align: top;\n",
       "    }\n",
       "\n",
       "    .dataframe thead th {\n",
       "        text-align: right;\n",
       "    }\n",
       "</style>\n",
       "<table border=\"1\" class=\"dataframe\">\n",
       "  <thead>\n",
       "    <tr style=\"text-align: right;\">\n",
       "      <th></th>\n",
       "      <th>Unnamed: 0</th>\n",
       "      <th>DNode0</th>\n",
       "      <th>DNode1</th>\n",
       "      <th>DNode2</th>\n",
       "      <th>DNode3</th>\n",
       "      <th>DNode4</th>\n",
       "      <th>DNode5</th>\n",
       "      <th>DNode6</th>\n",
       "      <th>TNode0</th>\n",
       "      <th>TNode1</th>\n",
       "      <th>ONode0</th>\n",
       "      <th>ONode1</th>\n",
       "      <th>ONode2</th>\n",
       "      <th>ONode3</th>\n",
       "    </tr>\n",
       "  </thead>\n",
       "  <tbody>\n",
       "    <tr>\n",
       "      <th>0</th>\n",
       "      <td>DNode0</td>\n",
       "      <td>0.000000</td>\n",
       "      <td>23.925563</td>\n",
       "      <td>16.308526</td>\n",
       "      <td>14.097823</td>\n",
       "      <td>18.187310</td>\n",
       "      <td>18.844048</td>\n",
       "      <td>38.441819</td>\n",
       "      <td>13.112935</td>\n",
       "      <td>7.513841</td>\n",
       "      <td>10.834469</td>\n",
       "      <td>34.549329</td>\n",
       "      <td>25.511757</td>\n",
       "      <td>20.510295</td>\n",
       "    </tr>\n",
       "    <tr>\n",
       "      <th>1</th>\n",
       "      <td>DNode1</td>\n",
       "      <td>23.925563</td>\n",
       "      <td>0.000000</td>\n",
       "      <td>36.209337</td>\n",
       "      <td>28.332810</td>\n",
       "      <td>10.934797</td>\n",
       "      <td>5.081515</td>\n",
       "      <td>14.516256</td>\n",
       "      <td>10.812628</td>\n",
       "      <td>25.879012</td>\n",
       "      <td>13.091094</td>\n",
       "      <td>10.623766</td>\n",
       "      <td>34.334186</td>\n",
       "      <td>13.195232</td>\n",
       "    </tr>\n",
       "    <tr>\n",
       "      <th>2</th>\n",
       "      <td>DNode2</td>\n",
       "      <td>16.308526</td>\n",
       "      <td>36.209337</td>\n",
       "      <td>0.000000</td>\n",
       "      <td>7.876527</td>\n",
       "      <td>27.725834</td>\n",
       "      <td>31.127822</td>\n",
       "      <td>50.725593</td>\n",
       "      <td>25.396709</td>\n",
       "      <td>10.330325</td>\n",
       "      <td>23.118243</td>\n",
       "      <td>46.833103</td>\n",
       "      <td>9.203231</td>\n",
       "      <td>32.794069</td>\n",
       "    </tr>\n",
       "    <tr>\n",
       "      <th>3</th>\n",
       "      <td>DNode3</td>\n",
       "      <td>14.097823</td>\n",
       "      <td>28.332810</td>\n",
       "      <td>7.876527</td>\n",
       "      <td>0.000000</td>\n",
       "      <td>19.849307</td>\n",
       "      <td>23.251295</td>\n",
       "      <td>42.849066</td>\n",
       "      <td>17.520182</td>\n",
       "      <td>6.583982</td>\n",
       "      <td>15.241716</td>\n",
       "      <td>38.956576</td>\n",
       "      <td>11.413934</td>\n",
       "      <td>24.917542</td>\n",
       "    </tr>\n",
       "    <tr>\n",
       "      <th>4</th>\n",
       "      <td>DNode4</td>\n",
       "      <td>18.187310</td>\n",
       "      <td>10.934797</td>\n",
       "      <td>27.725834</td>\n",
       "      <td>19.849307</td>\n",
       "      <td>0.000000</td>\n",
       "      <td>12.952752</td>\n",
       "      <td>22.999759</td>\n",
       "      <td>7.474905</td>\n",
       "      <td>17.395509</td>\n",
       "      <td>16.148761</td>\n",
       "      <td>19.107269</td>\n",
       "      <td>25.850683</td>\n",
       "      <td>5.068235</td>\n",
       "    </tr>\n",
       "    <tr>\n",
       "      <th>5</th>\n",
       "      <td>DNode5</td>\n",
       "      <td>18.844048</td>\n",
       "      <td>5.081515</td>\n",
       "      <td>31.127822</td>\n",
       "      <td>23.251295</td>\n",
       "      <td>12.952752</td>\n",
       "      <td>0.000000</td>\n",
       "      <td>19.597771</td>\n",
       "      <td>5.731113</td>\n",
       "      <td>20.797497</td>\n",
       "      <td>8.009579</td>\n",
       "      <td>15.705281</td>\n",
       "      <td>29.252671</td>\n",
       "      <td>15.213187</td>\n",
       "    </tr>\n",
       "    <tr>\n",
       "      <th>6</th>\n",
       "      <td>DNode6</td>\n",
       "      <td>38.441819</td>\n",
       "      <td>14.516256</td>\n",
       "      <td>50.725593</td>\n",
       "      <td>42.849066</td>\n",
       "      <td>22.999759</td>\n",
       "      <td>19.597771</td>\n",
       "      <td>0.000000</td>\n",
       "      <td>25.328884</td>\n",
       "      <td>40.395268</td>\n",
       "      <td>27.607350</td>\n",
       "      <td>3.892490</td>\n",
       "      <td>48.850442</td>\n",
       "      <td>17.931524</td>\n",
       "    </tr>\n",
       "    <tr>\n",
       "      <th>7</th>\n",
       "      <td>TNode0</td>\n",
       "      <td>13.112935</td>\n",
       "      <td>10.812628</td>\n",
       "      <td>25.396709</td>\n",
       "      <td>17.520182</td>\n",
       "      <td>7.474905</td>\n",
       "      <td>5.731113</td>\n",
       "      <td>25.328884</td>\n",
       "      <td>0.000000</td>\n",
       "      <td>15.066384</td>\n",
       "      <td>8.673856</td>\n",
       "      <td>21.436394</td>\n",
       "      <td>23.521558</td>\n",
       "      <td>9.735340</td>\n",
       "    </tr>\n",
       "    <tr>\n",
       "      <th>8</th>\n",
       "      <td>TNode1</td>\n",
       "      <td>7.513841</td>\n",
       "      <td>25.879012</td>\n",
       "      <td>10.330325</td>\n",
       "      <td>6.583982</td>\n",
       "      <td>17.395509</td>\n",
       "      <td>20.797497</td>\n",
       "      <td>40.395268</td>\n",
       "      <td>15.066384</td>\n",
       "      <td>0.000000</td>\n",
       "      <td>12.787918</td>\n",
       "      <td>36.502778</td>\n",
       "      <td>17.997916</td>\n",
       "      <td>22.463744</td>\n",
       "    </tr>\n",
       "    <tr>\n",
       "      <th>9</th>\n",
       "      <td>ONode0</td>\n",
       "      <td>10.834469</td>\n",
       "      <td>13.091094</td>\n",
       "      <td>23.118243</td>\n",
       "      <td>15.241716</td>\n",
       "      <td>16.148761</td>\n",
       "      <td>8.009579</td>\n",
       "      <td>27.607350</td>\n",
       "      <td>8.673856</td>\n",
       "      <td>12.787918</td>\n",
       "      <td>0.000000</td>\n",
       "      <td>23.714860</td>\n",
       "      <td>23.473208</td>\n",
       "      <td>18.409196</td>\n",
       "    </tr>\n",
       "    <tr>\n",
       "      <th>10</th>\n",
       "      <td>ONode1</td>\n",
       "      <td>34.549329</td>\n",
       "      <td>10.623766</td>\n",
       "      <td>46.833103</td>\n",
       "      <td>38.956576</td>\n",
       "      <td>19.107269</td>\n",
       "      <td>15.705281</td>\n",
       "      <td>3.892490</td>\n",
       "      <td>21.436394</td>\n",
       "      <td>36.502778</td>\n",
       "      <td>23.714860</td>\n",
       "      <td>0.000000</td>\n",
       "      <td>44.957952</td>\n",
       "      <td>14.039034</td>\n",
       "    </tr>\n",
       "    <tr>\n",
       "      <th>11</th>\n",
       "      <td>ONode2</td>\n",
       "      <td>25.511757</td>\n",
       "      <td>34.334186</td>\n",
       "      <td>9.203231</td>\n",
       "      <td>11.413934</td>\n",
       "      <td>25.850683</td>\n",
       "      <td>29.252671</td>\n",
       "      <td>48.850442</td>\n",
       "      <td>23.521558</td>\n",
       "      <td>17.997916</td>\n",
       "      <td>23.473208</td>\n",
       "      <td>44.957952</td>\n",
       "      <td>0.000000</td>\n",
       "      <td>30.918918</td>\n",
       "    </tr>\n",
       "    <tr>\n",
       "      <th>12</th>\n",
       "      <td>ONode3</td>\n",
       "      <td>20.510295</td>\n",
       "      <td>13.195232</td>\n",
       "      <td>32.794069</td>\n",
       "      <td>24.917542</td>\n",
       "      <td>5.068235</td>\n",
       "      <td>15.213187</td>\n",
       "      <td>17.931524</td>\n",
       "      <td>9.735340</td>\n",
       "      <td>22.463744</td>\n",
       "      <td>18.409196</td>\n",
       "      <td>14.039034</td>\n",
       "      <td>30.918918</td>\n",
       "      <td>0.000000</td>\n",
       "    </tr>\n",
       "  </tbody>\n",
       "</table>\n",
       "</div>"
      ],
      "text/plain": [
       "   Unnamed: 0     DNode0     DNode1     DNode2     DNode3     DNode4  \\\n",
       "0      DNode0   0.000000  23.925563  16.308526  14.097823  18.187310   \n",
       "1      DNode1  23.925563   0.000000  36.209337  28.332810  10.934797   \n",
       "2      DNode2  16.308526  36.209337   0.000000   7.876527  27.725834   \n",
       "3      DNode3  14.097823  28.332810   7.876527   0.000000  19.849307   \n",
       "4      DNode4  18.187310  10.934797  27.725834  19.849307   0.000000   \n",
       "5      DNode5  18.844048   5.081515  31.127822  23.251295  12.952752   \n",
       "6      DNode6  38.441819  14.516256  50.725593  42.849066  22.999759   \n",
       "7      TNode0  13.112935  10.812628  25.396709  17.520182   7.474905   \n",
       "8      TNode1   7.513841  25.879012  10.330325   6.583982  17.395509   \n",
       "9      ONode0  10.834469  13.091094  23.118243  15.241716  16.148761   \n",
       "10     ONode1  34.549329  10.623766  46.833103  38.956576  19.107269   \n",
       "11     ONode2  25.511757  34.334186   9.203231  11.413934  25.850683   \n",
       "12     ONode3  20.510295  13.195232  32.794069  24.917542   5.068235   \n",
       "\n",
       "       DNode5     DNode6     TNode0     TNode1     ONode0     ONode1  \\\n",
       "0   18.844048  38.441819  13.112935   7.513841  10.834469  34.549329   \n",
       "1    5.081515  14.516256  10.812628  25.879012  13.091094  10.623766   \n",
       "2   31.127822  50.725593  25.396709  10.330325  23.118243  46.833103   \n",
       "3   23.251295  42.849066  17.520182   6.583982  15.241716  38.956576   \n",
       "4   12.952752  22.999759   7.474905  17.395509  16.148761  19.107269   \n",
       "5    0.000000  19.597771   5.731113  20.797497   8.009579  15.705281   \n",
       "6   19.597771   0.000000  25.328884  40.395268  27.607350   3.892490   \n",
       "7    5.731113  25.328884   0.000000  15.066384   8.673856  21.436394   \n",
       "8   20.797497  40.395268  15.066384   0.000000  12.787918  36.502778   \n",
       "9    8.009579  27.607350   8.673856  12.787918   0.000000  23.714860   \n",
       "10  15.705281   3.892490  21.436394  36.502778  23.714860   0.000000   \n",
       "11  29.252671  48.850442  23.521558  17.997916  23.473208  44.957952   \n",
       "12  15.213187  17.931524   9.735340  22.463744  18.409196  14.039034   \n",
       "\n",
       "       ONode2     ONode3  \n",
       "0   25.511757  20.510295  \n",
       "1   34.334186  13.195232  \n",
       "2    9.203231  32.794069  \n",
       "3   11.413934  24.917542  \n",
       "4   25.850683   5.068235  \n",
       "5   29.252671  15.213187  \n",
       "6   48.850442  17.931524  \n",
       "7   23.521558   9.735340  \n",
       "8   17.997916  22.463744  \n",
       "9   23.473208  18.409196  \n",
       "10  44.957952  14.039034  \n",
       "11   0.000000  30.918918  \n",
       "12  30.918918   0.000000  "
      ]
     },
     "execution_count": 2,
     "metadata": {},
     "output_type": "execute_result"
    }
   ],
   "source": [
    "df_distance = pd.read_csv('DistanceMatrix.csv')\n",
    "df_distance"
   ]
  },
  {
   "cell_type": "code",
   "execution_count": 3,
   "metadata": {},
   "outputs": [
    {
     "data": {
      "text/html": [
       "<div>\n",
       "<style scoped>\n",
       "    .dataframe tbody tr th:only-of-type {\n",
       "        vertical-align: middle;\n",
       "    }\n",
       "\n",
       "    .dataframe tbody tr th {\n",
       "        vertical-align: top;\n",
       "    }\n",
       "\n",
       "    .dataframe thead th {\n",
       "        text-align: right;\n",
       "    }\n",
       "</style>\n",
       "<table border=\"1\" class=\"dataframe\">\n",
       "  <thead>\n",
       "    <tr style=\"text-align: right;\">\n",
       "      <th></th>\n",
       "      <th>DCLable</th>\n",
       "      <th>Mean</th>\n",
       "      <th>Sigma</th>\n",
       "    </tr>\n",
       "  </thead>\n",
       "  <tbody>\n",
       "    <tr>\n",
       "      <th>0</th>\n",
       "      <td>0</td>\n",
       "      <td>8451.449315</td>\n",
       "      <td>428.374914</td>\n",
       "    </tr>\n",
       "    <tr>\n",
       "      <th>1</th>\n",
       "      <td>1</td>\n",
       "      <td>14416.054795</td>\n",
       "      <td>711.954732</td>\n",
       "    </tr>\n",
       "    <tr>\n",
       "      <th>2</th>\n",
       "      <td>2</td>\n",
       "      <td>7272.235616</td>\n",
       "      <td>365.361652</td>\n",
       "    </tr>\n",
       "    <tr>\n",
       "      <th>3</th>\n",
       "      <td>3</td>\n",
       "      <td>15888.717808</td>\n",
       "      <td>770.001912</td>\n",
       "    </tr>\n",
       "    <tr>\n",
       "      <th>4</th>\n",
       "      <td>4</td>\n",
       "      <td>12524.410959</td>\n",
       "      <td>629.789221</td>\n",
       "    </tr>\n",
       "    <tr>\n",
       "      <th>5</th>\n",
       "      <td>5</td>\n",
       "      <td>16623.356164</td>\n",
       "      <td>824.405929</td>\n",
       "    </tr>\n",
       "    <tr>\n",
       "      <th>6</th>\n",
       "      <td>6</td>\n",
       "      <td>5374.391781</td>\n",
       "      <td>277.091631</td>\n",
       "    </tr>\n",
       "  </tbody>\n",
       "</table>\n",
       "</div>"
      ],
      "text/plain": [
       "   DCLable          Mean       Sigma\n",
       "0        0   8451.449315  428.374914\n",
       "1        1  14416.054795  711.954732\n",
       "2        2   7272.235616  365.361652\n",
       "3        3  15888.717808  770.001912\n",
       "4        4  12524.410959  629.789221\n",
       "5        5  16623.356164  824.405929\n",
       "6        6   5374.391781  277.091631"
      ]
     },
     "execution_count": 3,
     "metadata": {},
     "output_type": "execute_result"
    }
   ],
   "source": [
    "df_demand = pd.read_csv('DC_demand.csv')\n",
    "df_demand"
   ]
  },
  {
   "cell_type": "code",
   "execution_count": 4,
   "metadata": {},
   "outputs": [],
   "source": [
    "dot = df_distance.iloc[9:,8:10].values   # distance between o-nodes and t-nodes (4*2 matrix)\n",
    "dow = df_distance.iloc[9:,1:8].values    # distance between o-nodes and c-nodes (4*7 matrix)\n",
    "dtw = df_distance.iloc[7:9,1:8].values   # distance between t-nodes and c-nodes (2*7 matrix)\n",
    "\n",
    "pi = 1000\n",
    "\n",
    "# Demand at the warehouses are Normally distributed\n",
    "mean_w = df_demand['Mean'].values    # Meand demand at the warehouses\n",
    "std_w = df_demand['Sigma'].values    # Std of demand at the warehouse"
   ]
  },
  {
   "cell_type": "markdown",
   "metadata": {},
   "source": [
    "<h1>3. Develop Phase-1 model</h1>"
   ]
  },
  {
   "cell_type": "code",
   "execution_count": 5,
   "metadata": {},
   "outputs": [],
   "source": [
    "# funtion to calculate distrution cost\n",
    "def cost_dist(x):\n",
    "    xot = x[:8].reshape(4,2)\n",
    "    yow = x[8:36].reshape(4,7)\n",
    "    ztw = x[36:].reshape(2,7)\n",
    "    cost_ot = np.sum((1/1000)*(xot*(100 + dot*2)))\n",
    "    cost_ow = np.sum((1/1000)*(yow*(100 + dow*2)))\n",
    "    cost_tw = np.sum((1/1000)*(ztw*(100 + dtw*2)))\n",
    "    \n",
    "    cost = cost_ot + cost_ow + cost_tw\n",
    "    return cost"
   ]
  },
  {
   "cell_type": "code",
   "execution_count": 6,
   "metadata": {},
   "outputs": [],
   "source": [
    "# function to calculate soct of missidng demand\n",
    "def cost_missdem(x):\n",
    "    yow = x[8:36].reshape(4,7)\n",
    "    ztw = x[36:].reshape(2,7)\n",
    "    pack_rcvd = np.sum(yow.T, axis = 1) + np.sum(ztw.T, axis = 1)\n",
    "    missed_dem = []\n",
    "    for i in range(len(pack_rcvd)):\n",
    "        missed_dem.append(quad(lambda x: (x-pack_rcvd[i])*norm(mean_w[i],std_w[i]).pdf(x),pack_rcvd[i],100000))\n",
    "        list_missed_dem = [list(elem)[0] for elem in missed_dem]\n",
    "    \n",
    "    return pi*sum(list_missed_dem)"
   ]
  },
  {
   "cell_type": "code",
   "execution_count": 7,
   "metadata": {},
   "outputs": [],
   "source": [
    "# function to calculate cost of inequity\n",
    "def cost_equity(x):\n",
    "    yow = x[8:36].reshape(4,7)\n",
    "    ztw = x[36:].reshape(2,7)\n",
    "    pack_rcvd = np.sum(yow.T, axis = 1) + np.sum(ztw.T, axis = 1)\n",
    "    equidist = np.sum(pack_rcvd) * (mean_w/sum(mean_w))\n",
    "    cost = np.sum((pack_rcvd - equidist)**2)\n",
    "    \n",
    "    return cost"
   ]
  },
  {
   "cell_type": "code",
   "execution_count": 8,
   "metadata": {},
   "outputs": [],
   "source": [
    "def cost(x):\n",
    "    distribution = cost_dist(x)\n",
    "    misseddemand = cost_missdem(x)\n",
    "    inequity = cost_equity(x)\n",
    "    return (distribution + misseddemand + inequity)"
   ]
  },
  {
   "cell_type": "markdown",
   "metadata": {},
   "source": [
    "<h1>4. Solve Phase-1 model </h1>"
   ]
  },
  {
   "cell_type": "code",
   "execution_count": 9,
   "metadata": {},
   "outputs": [],
   "source": [
    "# Defines bounds for the variables; Non-negativity\n",
    "bounds = Bounds(np.zeros(50), np.array(np.ones(50) * np.inf))"
   ]
  },
  {
   "cell_type": "code",
   "execution_count": 10,
   "metadata": {},
   "outputs": [],
   "source": [
    "# Define constraint: t-nodes cannot ship more than their total packages received from the o-nodes\n",
    "A = np.zeros((2,50))\n",
    "A[0,:][[0,2,4,6]] = 1\n",
    "A[1,:][[1,3,5,7]] = 1\n",
    "A[0,:][36:43] = -1\n",
    "A[1,:][43:] = -1\n",
    "\n",
    "linear_constraint = LinearConstraint(A, [-np.inf, -np.inf], [0, 0])"
   ]
  },
  {
   "cell_type": "code",
   "execution_count": null,
   "metadata": {},
   "outputs": [],
   "source": []
  },
  {
   "cell_type": "code",
   "execution_count": 11,
   "metadata": {},
   "outputs": [
    {
     "name": "stdout",
     "output_type": "stream",
     "text": [
      "`gtol` termination condition is satisfied.\n",
      "Number of iterations: 16, function evaluations: 714, CG iterations: 56, optimality: 5.67e-01, constraint violation: 0.00e+00, execution time: 1.7e+03 s.\n"
     ]
    }
   ],
   "source": [
    "# Develop the optimization model and solve\n",
    "res = minimize(cost, np.zeros(50), method='trust-constr', constraints = linear_constraint, \n",
    "                    options={'gtol': 1, 'xtol': 10,'disp': True}, bounds=bounds)\n"
   ]
  },
  {
   "cell_type": "markdown",
   "metadata": {},
   "source": [
    "<h1>5. Results </h1>"
   ]
  },
  {
   "cell_type": "code",
   "execution_count": 12,
   "metadata": {},
   "outputs": [],
   "source": [
    "results = res.x"
   ]
  },
  {
   "cell_type": "code",
   "execution_count": 13,
   "metadata": {},
   "outputs": [],
   "source": [
    "X_ot = results[:8].reshape(4,2)\n",
    "Y_ow = results[8:36].reshape(4,7)\n",
    "Z_tw = results[36:].reshape(2,7)"
   ]
  },
  {
   "cell_type": "code",
   "execution_count": null,
   "metadata": {},
   "outputs": [],
   "source": []
  },
  {
   "cell_type": "code",
   "execution_count": 14,
   "metadata": {},
   "outputs": [
    {
     "name": "stdout",
     "output_type": "stream",
     "text": [
      "O-nodes to t-nodes:\n",
      "[[1050.06495258 1050.04980877]\n",
      " [1050.0181492  1049.96283435]\n",
      " [1050.01048504 1050.03074739]\n",
      " [1050.06104922 1050.01437583]]\n",
      "O-nodes to w-node:\n",
      "[[1822.73497383 2982.59642596 1593.45049322 3265.41782475 2618.75022597\n",
      "  3413.70407168 1221.44052054]\n",
      " [1822.76540421 2982.61360793 1593.63419474 3265.44913866 2618.7351237\n",
      "  3413.82034473 1221.25179092]\n",
      " [1822.65284362 2982.6343564  1593.37586486 3265.44364769 2618.69759237\n",
      "  3413.89186369 1221.4823354 ]\n",
      " [1822.68049233 2982.59607862 1593.56009107 3265.37062873 2618.66240867\n",
      "  3413.82212779 1221.34067668]]\n",
      "t-nodes to w-nodes:\n",
      "[[1301.92460883 2473.43066508 1070.06652425 2769.98581163 2093.95777714\n",
      "  2903.07847098  703.23520485]\n",
      " [1301.95517371 2473.57859663 1069.91307699 2769.80933522 2094.12994774\n",
      "  2903.21906615  703.15276864]]\n"
     ]
    }
   ],
   "source": [
    "print(\"O-nodes to t-nodes:\")\n",
    "print(X_ot)\n",
    "print(\"O-nodes to w-node:\")\n",
    "print(Y_ow)\n",
    "print(\"t-nodes to w-nodes:\")\n",
    "print(Z_tw)"
   ]
  },
  {
   "cell_type": "code",
   "execution_count": 15,
   "metadata": {},
   "outputs": [],
   "source": [
    "LTL_ot = np.remainder(X_ot,1000)\n",
    "LTL_ow = np.remainder(Y_ow,1000)\n",
    "LTL_tw = np.remainder(Z_tw,1000)"
   ]
  },
  {
   "cell_type": "code",
   "execution_count": 16,
   "metadata": {},
   "outputs": [],
   "source": [
    "VRPinput = np.zeros([13,13])\n",
    "\n",
    "VRPinput[0:4,4:6] = LTL_ot.round(0)\n",
    "VRPinput[0:4,6:] = LTL_ow.round(0)\n",
    "VRPinput[4:6,6:] = LTL_tw.round(0)"
   ]
  },
  {
   "cell_type": "code",
   "execution_count": 17,
   "metadata": {},
   "outputs": [],
   "source": [
    "onodes = df_distance.columns[1:].tolist()[9:]\n",
    "tnodes = df_distance.columns[1:].tolist()[7:9]\n",
    "dnodes = df_distance.columns[1:].tolist()[:7]"
   ]
  },
  {
   "cell_type": "code",
   "execution_count": 18,
   "metadata": {},
   "outputs": [],
   "source": [
    "lst1 = []\n",
    "lst2 = []\n",
    "lst3 = []\n",
    "\n",
    "for i in range(len(onodes)):\n",
    "    for j in range(len(tnodes)):\n",
    "        lst1.append([onodes[i],tnodes[j]])\n",
    "        \n",
    "for i in range(len(onodes)):\n",
    "    for j in range(len(dnodes)):\n",
    "        lst2.append([onodes[i],dnodes[j]])\n",
    "        \n",
    "for i in range(len(tnodes)):\n",
    "    for j in range(len(dnodes)):\n",
    "        lst3.append([tnodes[i],dnodes[j]])\n",
    "        \n",
    "lst_node = lst1 + lst2 + lst3"
   ]
  },
  {
   "cell_type": "code",
   "execution_count": null,
   "metadata": {},
   "outputs": [],
   "source": []
  },
  {
   "cell_type": "code",
   "execution_count": 20,
   "metadata": {},
   "outputs": [],
   "source": [
    "ntruck_ot = np.divmod(X_ot,1000)[0]\n",
    "ntruck_ow = np.divmod(Y_ow,1000)[0]\n",
    "ntruck_tw = np.divmod(Z_tw,1000)[0]"
   ]
  },
  {
   "cell_type": "code",
   "execution_count": 21,
   "metadata": {},
   "outputs": [],
   "source": [
    "pd.DataFrame(ntruck_ot).to_csv(\"ntruck_ot.csv\")\n",
    "pd.DataFrame(ntruck_ow).to_csv(\"ntruck_ow.csv\")\n",
    "pd.DataFrame(ntruck_tw).to_csv(\"ntruck_tw.csv\")\n"
   ]
  },
  {
   "cell_type": "code",
   "execution_count": 22,
   "metadata": {},
   "outputs": [],
   "source": [
    "pd.DataFrame(ntruck_ot*1000).to_csv(\"npackages_ot.csv\")\n",
    "pd.DataFrame(ntruck_ow*1000).to_csv(\"npackages_ow.csv\")\n",
    "pd.DataFrame(ntruck_tw*1000).to_csv(\"npackages_tw.csv\")"
   ]
  },
  {
   "cell_type": "code",
   "execution_count": 23,
   "metadata": {},
   "outputs": [],
   "source": [
    "pd.DataFrame(ntruck_ot+1).to_csv(\"wc_ntruck_ot.csv\")\n",
    "pd.DataFrame(ntruck_ow+1).to_csv(\"wc_ntruck_ow.csv\")\n",
    "pd.DataFrame(ntruck_tw+1).to_csv(\"wc_ntruck_tw.csv\")"
   ]
  },
  {
   "cell_type": "code",
   "execution_count": 24,
   "metadata": {},
   "outputs": [],
   "source": [
    "pd.DataFrame(X_ot.round(0)).to_csv(\"wc_npackages_ot.csv\")\n",
    "pd.DataFrame(Y_ow.round(0)).to_csv(\"wc_npackages_ow.csv\")\n",
    "pd.DataFrame(Z_tw.round(0)).to_csv(\"wc_npackages_tw.csv\")"
   ]
  },
  {
   "cell_type": "code",
   "execution_count": 25,
   "metadata": {},
   "outputs": [
    {
     "data": {
      "text/plain": [
       "313.81629226756434"
      ]
     },
     "execution_count": 25,
     "metadata": {},
     "output_type": "execute_result"
    }
   ],
   "source": [
    "cost_missdem(results)"
   ]
  },
  {
   "cell_type": "code",
   "execution_count": 26,
   "metadata": {},
   "outputs": [
    {
     "data": {
      "text/plain": [
       "0.120321674057621"
      ]
     },
     "execution_count": 26,
     "metadata": {},
     "output_type": "execute_result"
    }
   ],
   "source": [
    "cost_equity(results)"
   ]
  },
  {
   "cell_type": "code",
   "execution_count": 27,
   "metadata": {},
   "outputs": [],
   "source": [
    "# funtion to calculate worst case truck cost with round-up figures from phase 1\n",
    "def wc_cost_truck(x):\n",
    "    xot = x[:8].reshape(4,2)\n",
    "    yow = x[8:36].reshape(4,7)\n",
    "    ztw = x[36:].reshape(2,7)\n",
    "    ntruck_ot = np.divmod(xot.round(0),1000)[0]\n",
    "    ntruck_ow = np.divmod(yow.round(0),1000)[0]\n",
    "    ntruck_tw = np.divmod(ztw.round(0),1000)[0]\n",
    "    \n",
    "    cost_ot = np.sum(((ntruck_ot+1)*(100 + dot*2)))\n",
    "    cost_ow = np.sum(((ntruck_ow+1)*(100 + dow*2)))\n",
    "    cost_tw = np.sum(((ntruck_tw+1)*(100 + dtw*2)))\n",
    "    \n",
    "    cost_wc = cost_ot + cost_ow + cost_tw\n",
    "    return cost_wc"
   ]
  },
  {
   "cell_type": "code",
   "execution_count": 28,
   "metadata": {},
   "outputs": [],
   "source": [
    "FTL_output = pd.DataFrame(columns = ['From','To','Distance','NumberofTrucks','NumberofPackages'])\n",
    "FTL_output['From']  = [i[0] for i in lst_node]\n",
    "FTL_output['To']  = [i[1] for i in lst_node]\n",
    "\n",
    "disti = []\n",
    "df_disti = df_distance.copy()\n",
    "df_disti = df_disti.set_index('Unnamed: 0')\n",
    "\n",
    "\n",
    "for i in range(len(FTL_output)):\n",
    "    disti.append(df_disti.loc[FTL_output['From'][i],FTL_output['To'][i]])\n",
    "    \n",
    "FTL_output['Distance'] = disti\n",
    "FTL_output['NumberofTrucks'] = np.concatenate([np.array(ntruck_ot).flatten(),np.array(ntruck_ow).flatten(),np.array(ntruck_tw).flatten()]).tolist()\n",
    "FTL_output['NumberofPackages'] = np.concatenate([np.array(ntruck_ot*1000).flatten(),np.array(ntruck_ow*1000).flatten(),np.array(ntruck_tw*1000).flatten()]).tolist()\n",
    "\n",
    "        "
   ]
  },
  {
   "cell_type": "code",
   "execution_count": 29,
   "metadata": {},
   "outputs": [],
   "source": [
    "pd.DataFrame(FTL_output).to_csv(\"FTL_output.csv\")"
   ]
  },
  {
   "cell_type": "code",
   "execution_count": 30,
   "metadata": {},
   "outputs": [],
   "source": [
    "FTL_WC_output = pd.DataFrame(columns = ['From','To','Distance','NumberofTrucks','NumberofPackages'])\n",
    "FTL_WC_output['From']  = [i[0] for i in lst_node]\n",
    "FTL_WC_output['To']  = [i[1] for i in lst_node]\n",
    "\n",
    "disti = []\n",
    "df_disti = df_distance.copy()\n",
    "df_disti = df_disti.set_index('Unnamed: 0')\n",
    "\n",
    "\n",
    "for i in range(len(FTL_output)):\n",
    "    disti.append(df_disti.loc[FTL_output['From'][i],FTL_output['To'][i]])\n",
    "    \n",
    "FTL_WC_output['Distance'] = disti\n",
    "FTL_WC_output['NumberofTrucks'] = np.concatenate([np.array(ntruck_ot+1).flatten(),np.array(ntruck_ow+1).flatten(),np.array(ntruck_tw+1).flatten()]).tolist()\n",
    "FTL_WC_output['NumberofPackages'] = np.concatenate([np.array(X_ot).flatten(),np.array(Y_ow).flatten(),np.array(Z_tw).flatten()]).tolist()\n"
   ]
  },
  {
   "cell_type": "code",
   "execution_count": 31,
   "metadata": {},
   "outputs": [],
   "source": [
    "pd.DataFrame(VRPinput).to_csv(\"VRPinput.csv\")"
   ]
  },
  {
   "cell_type": "code",
   "execution_count": 32,
   "metadata": {},
   "outputs": [],
   "source": [
    "pd.DataFrame(FTL_WC_output).to_csv(\"FTL_WC_output.csv\")"
   ]
  },
  {
   "cell_type": "code",
   "execution_count": null,
   "metadata": {},
   "outputs": [],
   "source": []
  },
  {
   "cell_type": "code",
   "execution_count": null,
   "metadata": {},
   "outputs": [],
   "source": []
  },
  {
   "cell_type": "code",
   "execution_count": 33,
   "metadata": {},
   "outputs": [
    {
     "data": {
      "text/plain": [
       "17943.25498"
      ]
     },
     "execution_count": 33,
     "metadata": {},
     "output_type": "execute_result"
    }
   ],
   "source": [
    "MaxCostTruck = wc_cost_truck(results)\n",
    "MaxCostTruck"
   ]
  },
  {
   "cell_type": "code",
   "execution_count": 34,
   "metadata": {},
   "outputs": [
    {
     "data": {
      "text/plain": [
       "10972.938364"
      ]
     },
     "execution_count": 34,
     "metadata": {},
     "output_type": "execute_result"
    }
   ],
   "source": [
    "resulst_Ph1 = np.concatenate([np.array(ntruck_ot*1000).flatten(),np.array(ntruck_ow*1000).flatten(),np.array(ntruck_tw*1000).flatten()])\n",
    "cost_dist_Ph1 = cost_dist(resulst_Ph1)\n",
    "cost_dist_Ph1"
   ]
  },
  {
   "cell_type": "code",
   "execution_count": 35,
   "metadata": {},
   "outputs": [
    {
     "data": {
      "text/html": [
       "<div>\n",
       "<style scoped>\n",
       "    .dataframe tbody tr th:only-of-type {\n",
       "        vertical-align: middle;\n",
       "    }\n",
       "\n",
       "    .dataframe tbody tr th {\n",
       "        vertical-align: top;\n",
       "    }\n",
       "\n",
       "    .dataframe thead th {\n",
       "        text-align: right;\n",
       "    }\n",
       "</style>\n",
       "<table border=\"1\" class=\"dataframe\">\n",
       "  <thead>\n",
       "    <tr style=\"text-align: right;\">\n",
       "      <th></th>\n",
       "      <th>TruckPerRoute</th>\n",
       "      <th>PackageNumber</th>\n",
       "      <th>DistancePerRoute</th>\n",
       "      <th>CostPerRoute</th>\n",
       "    </tr>\n",
       "  </thead>\n",
       "  <tbody>\n",
       "    <tr>\n",
       "      <th>0</th>\n",
       "      <td>2</td>\n",
       "      <td>1142.104537</td>\n",
       "      <td>60.862063</td>\n",
       "      <td>443.448252</td>\n",
       "    </tr>\n",
       "    <tr>\n",
       "      <th>1</th>\n",
       "      <td>2</td>\n",
       "      <td>1066.666229</td>\n",
       "      <td>67.080333</td>\n",
       "      <td>468.321332</td>\n",
       "    </tr>\n",
       "    <tr>\n",
       "      <th>2</th>\n",
       "      <td>1</td>\n",
       "      <td>840.003085</td>\n",
       "      <td>38.956576</td>\n",
       "      <td>177.913152</td>\n",
       "    </tr>\n",
       "    <tr>\n",
       "      <th>3</th>\n",
       "      <td>2</td>\n",
       "      <td>1049.081084</td>\n",
       "      <td>46.635364</td>\n",
       "      <td>386.541456</td>\n",
       "    </tr>\n",
       "    <tr>\n",
       "      <th>4</th>\n",
       "      <td>1</td>\n",
       "      <td>890.255699</td>\n",
       "      <td>37.294579</td>\n",
       "      <td>174.589158</td>\n",
       "    </tr>\n",
       "  </tbody>\n",
       "</table>\n",
       "</div>"
      ],
      "text/plain": [
       "   TruckPerRoute  PackageNumber  DistancePerRoute  CostPerRoute\n",
       "0              2    1142.104537         60.862063    443.448252\n",
       "1              2    1066.666229         67.080333    468.321332\n",
       "2              1     840.003085         38.956576    177.913152\n",
       "3              2    1049.081084         46.635364    386.541456\n",
       "4              1     890.255699         37.294579    174.589158"
      ]
     },
     "execution_count": 35,
     "metadata": {},
     "output_type": "execute_result"
    }
   ],
   "source": [
    "df_Ph2 = pd.read_csv('VRPoutput.csv')\n",
    "df_Ph2.head()"
   ]
  },
  {
   "cell_type": "code",
   "execution_count": 36,
   "metadata": {},
   "outputs": [
    {
     "data": {
      "text/plain": [
       "4769.151633999991"
      ]
     },
     "execution_count": 36,
     "metadata": {},
     "output_type": "execute_result"
    }
   ],
   "source": [
    "cost_dist_Ph2 = df_Ph2['CostPerRoute'].sum()\n",
    "cost_dist_Ph2"
   ]
  },
  {
   "cell_type": "code",
   "execution_count": 37,
   "metadata": {},
   "outputs": [
    {
     "data": {
      "text/plain": [
       "15742.08999799999"
      ]
     },
     "execution_count": 37,
     "metadata": {},
     "output_type": "execute_result"
    }
   ],
   "source": [
    "MinCostTruck = cost_dist_Ph1 + cost_dist_Ph2\n",
    "MinCostTruck"
   ]
  },
  {
   "cell_type": "code",
   "execution_count": 38,
   "metadata": {},
   "outputs": [
    {
     "name": "stdout",
     "output_type": "stream",
     "text": [
      "Two-phase model will save 2201.0 dollars (12.0 percent) in distribution cost compared to round-up phase 1 results.\n"
     ]
    }
   ],
   "source": [
    "TotSavings = MaxCostTruck - MinCostTruck\n",
    "PctSavings = TotSavings/MaxCostTruck\n",
    "print(\"Two-phase model will save {} dollars ({} percent) in distribution cost compared to round-up phase 1 results.\". format(round(TotSavings,0), round(PctSavings,2)*100))"
   ]
  },
  {
   "cell_type": "code",
   "execution_count": null,
   "metadata": {},
   "outputs": [],
   "source": []
  },
  {
   "cell_type": "code",
   "execution_count": null,
   "metadata": {},
   "outputs": [],
   "source": []
  }
 ],
 "metadata": {
  "kernelspec": {
   "display_name": "Python 3",
   "language": "python",
   "name": "python3"
  },
  "language_info": {
   "codemirror_mode": {
    "name": "ipython",
    "version": 3
   },
   "file_extension": ".py",
   "mimetype": "text/x-python",
   "name": "python",
   "nbconvert_exporter": "python",
   "pygments_lexer": "ipython3",
   "version": "3.7.3"
  }
 },
 "nbformat": 4,
 "nbformat_minor": 2
}
